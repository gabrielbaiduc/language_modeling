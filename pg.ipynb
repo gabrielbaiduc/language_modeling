{
 "cells": [
  {
   "cell_type": "code",
   "execution_count": 12,
   "id": "8fa09266",
   "metadata": {},
   "outputs": [],
   "source": [
    "import torch\n",
    "\n",
    "class NGramModel:\n",
    "    def __init__(self, N, words):\n",
    "        assert N >= 1, \"N must be at least 1\"\n",
    "        self.N = N\n",
    "        self.words = words\n",
    "\n",
    "        # Build vocabulary\n",
    "        chars = sorted(list(set(''.join(words))))\n",
    "        self.stoi = {s: i+1 for i, s in enumerate(chars)}\n",
    "        self.stoi['.'] = 0\n",
    "        self.itos = {i: s for s, i in self.stoi.items()}\n",
    "        self.vocab_size = len(self.stoi)\n",
    "\n",
    "        # Count N-grams\n",
    "        shape = tuple([self.vocab_size] * N)\n",
    "        self.N_counts = torch.zeros(shape, dtype=torch.int16)\n",
    "        for w in words:\n",
    "            chs = ['.'] * (N-1) + list(w) + ['.']\n",
    "            for gram in zip(*[chs[i:] for i in range(N)]):\n",
    "                idxs = [self.stoi[ch] for ch in gram]\n",
    "                self.N_counts[tuple(idxs)] += 1\n",
    "\n",
    "        # Compute probabilities\n",
    "        self.P = self.N_counts.float()\n",
    "        # Normalize along the last axis\n",
    "        self.P /= self.P.sum(dim=-1, keepdim=True)\n",
    "        # Replace NaNs (from division by zero) with zeros\n",
    "        self.P = torch.nan_to_num(self.P, nan=0.0)\n",
    "        self.P = self.P.to(torch.float16)\n",
    "\n",
    "    def sample(self, num_samples=1, seed=None):\n",
    "        g = None\n",
    "        if seed is not None:\n",
    "            g = torch.Generator()\n",
    "            g.manual_seed(seed)\n",
    "        results = []\n",
    "        for _ in range(num_samples):\n",
    "            out = []\n",
    "            context = [0] * (self.N - 1)\n",
    "            while True:\n",
    "                p = self.P[tuple(context)]\n",
    "                if g is not None:\n",
    "                    ix = torch.multinomial(p, num_samples=1, replacement=True, generator=g).item()\n",
    "                else:\n",
    "                    ix = torch.multinomial(p, num_samples=1, replacement=True).item()\n",
    "                out.append(self.itos[ix])\n",
    "                if ix == 0:\n",
    "                    break\n",
    "                context = context[1:] + [ix] if self.N > 1 else []\n",
    "            results.append(''.join(out))\n",
    "        return results"
   ]
  },
  {
   "cell_type": "code",
   "execution_count": 13,
   "id": "81cfbb87",
   "metadata": {},
   "outputs": [],
   "source": [
    "# Example usage:\n",
    "words = open('names 2.txt', 'r').read().splitlines()\n",
    "model = NGramModel(N=6, words=words)"
   ]
  },
  {
   "cell_type": "code",
   "execution_count": 24,
   "id": "d2afba94",
   "metadata": {},
   "outputs": [
    {
     "name": "stdout",
     "output_type": "stream",
     "text": [
      "gimena.\n",
      "mea.\n",
      "glynis.\n",
      "aubree.\n",
      "binny.\n",
      "bobbe.\n",
      "rayna.\n",
      "kuswara.\n",
      "sydel.\n",
      "reggie.\n",
      "loki.\n",
      "patchit.\n",
      "young.\n",
      "viviana.\n",
      "vincente.\n",
      "bienvenido.\n",
      "blythe.\n",
      "devan.\n",
      "ramin.\n",
      "kourtnay.\n"
     ]
    }
   ],
   "source": [
    "samples = model.sample(num_samples=20)\n",
    "for s in samples:\n",
    "    print(s)"
   ]
  }
 ],
 "metadata": {
  "kernelspec": {
   "display_name": "test",
   "language": "python",
   "name": "python3"
  },
  "language_info": {
   "codemirror_mode": {
    "name": "ipython",
    "version": 3
   },
   "file_extension": ".py",
   "mimetype": "text/x-python",
   "name": "python",
   "nbconvert_exporter": "python",
   "pygments_lexer": "ipython3",
   "version": "3.13.0"
  }
 },
 "nbformat": 4,
 "nbformat_minor": 5
}
