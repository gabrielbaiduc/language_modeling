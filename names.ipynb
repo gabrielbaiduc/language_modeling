{
 "cells": [
  {
   "cell_type": "code",
   "execution_count": 1,
   "id": "8fa09266",
   "metadata": {},
   "outputs": [],
   "source": [
    "from models.ngram import NGramModel"
   ]
  },
  {
   "cell_type": "code",
   "execution_count": 2,
   "id": "81cfbb87",
   "metadata": {},
   "outputs": [],
   "source": [
    "model = NGramModel(N=2)"
   ]
  },
  {
   "cell_type": "code",
   "execution_count": 3,
   "id": "c9b96ef4",
   "metadata": {},
   "outputs": [],
   "source": [
    "data_path = 'data/names.txt'\n",
    "data = model.load_data(data_path)"
   ]
  },
  {
   "cell_type": "code",
   "execution_count": 4,
   "id": "d2afba94",
   "metadata": {},
   "outputs": [],
   "source": [
    "model.train(data)"
   ]
  },
  {
   "cell_type": "code",
   "execution_count": 5,
   "id": "afcc78f1",
   "metadata": {},
   "outputs": [
    {
     "data": {
      "text/plain": [
       "['ar.',\n",
       " 'kenessaviramaynirdene.',\n",
       " 'mosstrin.',\n",
       " 'mam.',\n",
       " 'ce.',\n",
       " 'lahaq.',\n",
       " 'zazyly.',\n",
       " 'candeviy.',\n",
       " 'll.',\n",
       " 'fienkege.']"
      ]
     },
     "execution_count": 5,
     "metadata": {},
     "output_type": "execute_result"
    }
   ],
   "source": [
    "model.sample(num_samples=10)"
   ]
  },
  {
   "cell_type": "code",
   "execution_count": 6,
   "id": "1a7b11d9",
   "metadata": {},
   "outputs": [
    {
     "data": {
      "text/plain": [
       "{'log_likelihood': -559899.625,\n",
       " 'nll': 559899.625,\n",
       " 'avg_nll': 2.4541285037994385,\n",
       " 'num_ngrams': 228146}"
      ]
     },
     "execution_count": 6,
     "metadata": {},
     "output_type": "execute_result"
    }
   ],
   "source": [
    "model.evaluate(data)"
   ]
  },
  {
   "cell_type": "code",
   "execution_count": null,
   "id": "0235dccf",
   "metadata": {},
   "outputs": [],
   "source": []
  }
 ],
 "metadata": {
  "kernelspec": {
   "display_name": "test",
   "language": "python",
   "name": "python3"
  },
  "language_info": {
   "codemirror_mode": {
    "name": "ipython",
    "version": 3
   },
   "file_extension": ".py",
   "mimetype": "text/x-python",
   "name": "python",
   "nbconvert_exporter": "python",
   "pygments_lexer": "ipython3",
   "version": "3.13.0"
  }
 },
 "nbformat": 4,
 "nbformat_minor": 5
}
